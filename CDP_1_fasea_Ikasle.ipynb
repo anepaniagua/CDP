{
 "cells": [
  {
   "cell_type": "markdown",
   "metadata": {},
   "source": [
    "# 1. Fasea: Problema formalizatzen"
   ]
  },
  {
   "cell_type": "markdown",
   "metadata": {},
   "source": [
    "#### [Ikasle]\n",
    "\n",
    "Community Detection proiektuaren 1. fasean problema formalizatuko dugu. Dagoeneko klasean ikusi dugu, optimizazio problema bat formalizatzeak zer dakarren. Gogoratze aldera:\n",
    "<ul>\n",
    "  <li> soluzio bideragarrien espazioa definitzea,\n",
    "  <li> soluzioak errepresentatzeko modu egoki bat asmatzea eta\n",
    "  <li> helburu-funtzioa definitzea.\n",
    "</ul>\n",
    "\n",
    "\n",
    "#### Entregablea\n",
    "\n",
    "Lehenengo fasea ebaluatu ahal izateko, notebook hau bera igo beharko duzue eGelara eskatzen diren atazak egoki erantzunda. eGelan zehazten dira <b>egun eta orduan</b>. Garaiz ez entregatzeak, 0 bat suposatuko du ebaluagarria den proiektuaren zati horretan. Adi! Ez dute balio aitzakiek, denbora soberan duzue aurretiaz egiteko, eGelara igotzeko eta aseguratzeko entregatuta geratu dela. <b>Ez dut onartuko atzerapenik</b>.\n"
   ]
  },
  {
   "cell_type": "markdown",
   "metadata": {},
   "source": [
    "### Soluzio bideragarrien espazioa\n",
    "\n",
    "Proiektuan, aipatu dugun bezela, elkarlan komunitate desberdinak detektatu nahi ditugu. Horretarako, lehenenik eta behin erantzun beharreko galdera hurrengoa da: <i> Zer da komunitate bat?</i> Sarreran sortu dugun grafoan pentsatuz gero, <i> Nola adieraziko genituzte komunitateak grafoan?</i>\n",
    "Optimizazio konbinatorioko bibliografia begiratzea proposatzen dizuet (Google Scholar, Scopus, Web of Science...). Problema honek, berria ematen duen arren, hamarkada asko atzera aztertu zen lehenengo aldiz.\n",
    "\n",
    "Jarrian dagoen eremuan, 400 hitzetan, azaldu zer den Community Detection problema, eta eman aurreko galderei erantzuna. Behar izanez gero, gehitu irudiak. Garrantzitsua, erabilitako erreferentzia bibliografikoak testuan zuzenean adierazi beharko dituzue."
   ]
  },
  {
   "cell_type": "code",
   "execution_count": null,
   "metadata": {
    "collapsed": true
   },
   "outputs": [],
   "source": [
    "## 400 hitzetako azalpena.\n"
   ]
  },
  {
   "cell_type": "markdown",
   "metadata": {},
   "source": [
    "### Soluzioen errepresentazioa\n",
    "\n",
    "Behin aurreko galderak erantzun ditugula, eta badakigula nola adierazi komunitate bat, soluzioak errepresentatzeko kodeketa bat aukeratu behar dugu. Klasean hainbat kodeketa ikusi ditugu, horietako bat aproposa izan daiteke komunitateak identifikatzeko. Jarraian, proposatu soluzio batzuk esku artean dugun problemarentzako. <i>Nola kodetuko dugu komunitateen identifikazio bat?</i> Pentsatu..."
   ]
  },
  {
   "cell_type": "code",
   "execution_count": null,
   "metadata": {
    "collapsed": true
   },
   "outputs": [],
   "source": [
    "### Eman soluzioen adibide batzuk\n",
    "soluzioa_1=[]\n",
    "soluzioa_2=[]"
   ]
  },
  {
   "cell_type": "markdown",
   "metadata": {},
   "source": [
    "### Helburu-funtzioa\n",
    "\n",
    "Dagoeneko badakigu zer den komunitate bat, eta nola adierazi ere. Esan dugu, elkarlanen bitartez identifikatuko ditugula komunitateak. Baina, zerk eragiten du autore bat komunitate baten parte izateak? Adibidez, nahiko al da behin artikulu bat idaztea beste autore batzuekin, komunitatearen parte izateko? Erantzuna, argi dago, ezezkoa dela.\n",
    "\n",
    "Jarraian dagoen erreferentzian oinarrituko gara, helburu-funtzio egoki bat aukeratzeko. Zein aukeratuko zenuke? Pentsatu ondo! Badago bat oso egokia!\n",
    "\n",
    "   <i> Clauset, A.; Newman, M. E. J. \\& Moore, C. Finding community structure in very large networks, Physical Review E 2004, 70, 066111</i>\n",
    "   \n",
    "Jarraian eman 200 hitzetako azalpen bat aukeratu duzun helburu-funtzioaren inguruan. Horrez gain, adierazi ekuazio matematiko bidez, helburu-funtzioa (LaTeX notazioa onartzen du konpiladoreak). Ondoren, inplementatu helburu-funtzioa ere (funtzioaren egitura orokorra planteatzen dizuet). Azkenik helburu-funtzioaren pseudokode orokor bat ere idatzi beharko duzu."
   ]
  },
  {
   "cell_type": "code",
   "execution_count": null,
   "metadata": {
    "collapsed": true
   },
   "outputs": [],
   "source": [
    "# Idatzi hemen, 200 hitzetako azalpena, ekuazioa eta pseudokodea.\n",
    "\n",
    "\n",
    "\n"
   ]
  },
  {
   "cell_type": "code",
   "execution_count": null,
   "metadata": {
    "collapsed": true
   },
   "outputs": [],
   "source": [
    "# pip install ipynb exekutatu liburutegi hau erabili ahal izateko.\n",
    "from itertools import product\n",
    "from ipynb.fs.full.CDP_Sarrera_Ikasle import sortu_grafoa \n",
    "import community\n",
    "import networkx as nx\n",
    "import numpy as np\n",
    "\n",
    "### Helburu-funtzioa\n",
    "def modularitatea(G, partizioa, weight='weight'):\n",
    "    \n",
    "    ### Bete hemen 15-20 lerro\n",
    "    \n",
    "    \n",
    "    return modul\n",
    "\n",
    "### Dei orokorrak\n",
    "G=sortu_grafoa()\n",
    "\n",
    "## Gure inplementazioa\n",
    "partition1= dict(zip(G.nodes, soluzioa_1))\n",
    "partition2= dict(zip(G.nodes, soluzioa_2))\n",
    "\n",
    "print(\"1. soluzioaren modularitatea: \", modularitatea(G, partition1))\n",
    "print(\"2. soluzioaren modularitatea: \", modularitatea(G, partition2))"
   ]
  }
 ],
 "metadata": {
  "kernelspec": {
   "display_name": "Python 3",
   "language": "python",
   "name": "python3"
  },
  "language_info": {
   "codemirror_mode": {
    "name": "ipython",
    "version": 3
   },
   "file_extension": ".py",
   "mimetype": "text/x-python",
   "name": "python",
   "nbconvert_exporter": "python",
   "pygments_lexer": "ipython3",
   "version": "3.7.4"
  }
 },
 "nbformat": 4,
 "nbformat_minor": 2
}
